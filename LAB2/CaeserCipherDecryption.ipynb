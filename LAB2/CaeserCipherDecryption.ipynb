{
 "cells": [
  {
   "cell_type": "markdown",
   "id": "8a378dad-a22a-4fa1-a16e-48a1827951b1",
   "metadata": {},
   "source": [
    "# Checkpoint1:"
   ]
  },
  {
   "cell_type": "code",
   "execution_count": 12,
   "id": "8f3e23ce-bfaf-4fdf-9e97-5ef0a878058a",
   "metadata": {},
   "outputs": [],
   "source": [
    "Cipher = 'odroboewscdrolocdcwkbdmyxdbkmdzvkdpybwyeddrobo'"
   ]
  },
  {
   "cell_type": "code",
   "execution_count": 13,
   "id": "4a3f50a2-d831-4326-ae8f-b58b87af2392",
   "metadata": {},
   "outputs": [],
   "source": [
    "letters = 'abcdefghijklmnopqrstuvwxyz'"
   ]
  },
  {
   "cell_type": "code",
   "execution_count": 14,
   "id": "2e92b4dc-2c65-45c8-9b9b-33da10699ead",
   "metadata": {},
   "outputs": [],
   "source": [
    "def decrypt(Cipher, key):\n",
    "    plaintext = ''\n",
    "    for letter in Cipher:\n",
    "        if not letter == ' ':\n",
    "            index = letters.find(letter)\n",
    "            if index == -1:\n",
    "                plaintext += letter\n",
    "            else:\n",
    "                new_index = (index-key+26)%26\n",
    "                plaintext += letters[new_index]\n",
    "    return  plaintext"
   ]
  },
  {
   "cell_type": "code",
   "execution_count": 15,
   "id": "dc62f1ce-829e-44e5-9133-1c676ae1c154",
   "metadata": {},
   "outputs": [
    {
     "name": "stdout",
     "output_type": "stream",
     "text": [
      "Decipher Text: 1- ncqnandvrbcqnknbcbvjaclxwcajlcyujcoxavxdccqnan\n",
      "Decipher Text: 2- mbpmzmcuqabpmjmabauizbkwvbzikbxtibnwzuwcbbpmzm\n",
      "Decipher Text: 3- laolylbtpzaolilzazthyajvuayhjawshamvytvbaaolyl\n",
      "Decipher Text: 4- kznkxkasoyznkhkyzysgxziutzxgizvrgzluxsuazznkxk\n",
      "Decipher Text: 5- jymjwjzrnxymjgjxyxrfwyhtsywfhyuqfyktwrtzyymjwj\n",
      "Decipher Text: 6- ixliviyqmwxlifiwxwqevxgsrxvegxtpexjsvqsyxxlivi\n",
      "Decipher Text: 7- hwkhuhxplvwkhehvwvpduwfrqwudfwsodwiruprxwwkhuh\n",
      "Decipher Text: 8- gvjgtgwokuvjgdguvuoctveqpvtcevrncvhqtoqwvvjgtg\n",
      "Decipher Text: 9- fuifsfvnjtuifcftutnbsudpousbduqmbugpsnpvuuifsf\n",
      "Decipher Text: 10- ethereumisthebestsmartcontractplatformoutthere\n",
      "Decipher Text: 11- dsgdqdtlhrsgdadrsrlzqsbnmsqzbsokzsenqlntssgdqd\n",
      "Decipher Text: 12- crfcpcskgqrfczcqrqkypramlrpyarnjyrdmpkmsrrfcpc\n",
      "Decipher Text: 13- bqebobrjfpqebybpqpjxoqzlkqoxzqmixqclojlrqqebob\n",
      "Decipher Text: 14- apdanaqieopdaxaopoiwnpykjpnwyplhwpbknikqppdana\n",
      "Decipher Text: 15- zoczmzphdnoczwznonhvmoxjiomvxokgvoajmhjpooczmz\n",
      "Decipher Text: 16- ynbylyogcmnbyvymnmgulnwihnluwnjfunzilgionnbyly\n",
      "Decipher Text: 17- xmaxkxnfblmaxuxlmlftkmvhgmktvmietmyhkfhnmmaxkx\n",
      "Decipher Text: 18- wlzwjwmeaklzwtwklkesjlugfljsulhdslxgjegmllzwjw\n",
      "Decipher Text: 19- vkyvivldzjkyvsvjkjdriktfekirtkgcrkwfidflkkyviv\n",
      "Decipher Text: 20- ujxuhukcyijxuruijicqhjsedjhqsjfbqjvehcekjjxuhu\n",
      "Decipher Text: 21- tiwtgtjbxhiwtqthihbpgirdcigprieapiudgbdjiiwtgt\n",
      "Decipher Text: 22- shvsfsiawghvspsghgaofhqcbhfoqhdzohtcfacihhvsfs\n",
      "Decipher Text: 23- rgurerhzvfgurorfgfznegpbagenpgcyngsbezbhggurer\n",
      "Decipher Text: 24- qftqdqgyueftqnqefeymdfoazfdmofbxmfradyagfftqdq\n",
      "Decipher Text: 25- pespcpfxtdespmpdedxlcenzyeclneawleqzcxzfeespcp\n",
      "Decipher Text: 26- odroboewscdrolocdcwkbdmyxdbkmdzvkdpybwyeddrobo\n"
     ]
    }
   ],
   "source": [
    "for key in range(1,27):\n",
    "    decipherText = decrypt(Cipher,key)\n",
    "    print(f'Decipher Text: {key}- {decipherText}')"
   ]
  },
  {
   "cell_type": "markdown",
   "id": "98f4b198-c273-4fc8-ab85-2ff8eb4c16bd",
   "metadata": {},
   "source": [
    "# So the decipher text is: ethereum is the best smart contract platform out there"
   ]
  },
  {
   "cell_type": "code",
   "execution_count": null,
   "id": "a7792e2d-ee42-4ce3-9f69-bb3d5f28abae",
   "metadata": {},
   "outputs": [],
   "source": []
  }
 ],
 "metadata": {
  "kernelspec": {
   "display_name": "Python 3 (ipykernel)",
   "language": "python",
   "name": "python3"
  },
  "language_info": {
   "codemirror_mode": {
    "name": "ipython",
    "version": 3
   },
   "file_extension": ".py",
   "mimetype": "text/x-python",
   "name": "python",
   "nbconvert_exporter": "python",
   "pygments_lexer": "ipython3",
   "version": "3.11.5"
  }
 },
 "nbformat": 4,
 "nbformat_minor": 5
}
